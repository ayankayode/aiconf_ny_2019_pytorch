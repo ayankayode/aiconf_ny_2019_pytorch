{
  "nbformat": 4,
  "nbformat_minor": 0,
  "metadata": {
    "colab": {
      "name": "02-Linear Modeling.ipynb",
      "version": "0.3.2",
      "provenance": [],
      "include_colab_link": true
    },
    "language_info": {
      "codemirror_mode": {
        "name": "ipython",
        "version": 3
      },
      "file_extension": ".py",
      "mimetype": "text/x-python",
      "name": "python",
      "nbconvert_exporter": "python",
      "pygments_lexer": "ipython3",
      "version": "3.6.3"
    },
    "kernelspec": {
      "display_name": "Python 3",
      "language": "python",
      "name": "python3"
    }
  },
  "cells": [
    {
      "cell_type": "markdown",
      "metadata": {
        "id": "view-in-github",
        "colab_type": "text"
      },
      "source": [
        "<a href=\"https://colab.research.google.com/github/datadynamo/aiconf_ny_2019_pytorch/blob/master/02_Linear_Modeling.ipynb\" target=\"_parent\"><img src=\"https://colab.research.google.com/assets/colab-badge.svg\" alt=\"Open In Colab\"/></a>"
      ]
    },
    {
      "metadata": {
        "id": "LCNNo1aUZnif",
        "colab_type": "text"
      },
      "cell_type": "markdown",
      "source": [
        "## Example: Linear Regression\n",
        "\n",
        "This follows a simple example from https://github.com/yunjey/pytorch-tutorial."
      ]
    },
    {
      "metadata": {
        "id": "NPBsTutcZnif",
        "colab_type": "code",
        "colab": {}
      },
      "cell_type": "code",
      "source": [
        "from __future__ import print_function\n",
        "import numpy as np\n",
        "import matplotlib.pyplot as plt\n",
        "import torch\n",
        "import torch.nn as nn\n",
        "import torch.nn.functional as F"
      ],
      "execution_count": 0,
      "outputs": []
    },
    {
      "metadata": {
        "id": "IauIrSTqZnih",
        "colab_type": "text"
      },
      "cell_type": "markdown",
      "source": [
        "Define model parameters"
      ]
    },
    {
      "metadata": {
        "id": "c-S_cGewZnih",
        "colab_type": "code",
        "colab": {}
      },
      "cell_type": "code",
      "source": [
        "NUM_EPOCHS    = 80\n",
        "LEARNING_RATE = 0.001"
      ],
      "execution_count": 0,
      "outputs": []
    },
    {
      "metadata": {
        "id": "7giN-uRHZnik",
        "colab_type": "text"
      },
      "cell_type": "markdown",
      "source": [
        "Create random toy data"
      ]
    },
    {
      "metadata": {
        "id": "aSqhWqOeZnil",
        "colab_type": "code",
        "colab": {}
      },
      "cell_type": "code",
      "source": [
        "x_train = np.linspace(0, 1, num = 100, dtype = np.float32) \\\n",
        "            .reshape(100, 1)\n",
        "epsilon = np.random.normal(0, 1, size=100).astype('f') \\\n",
        "            .reshape(100, 1)\n",
        "w = 2.0\n",
        "b = 0.5\n",
        "y_train = w * x_train + b + epsilon"
      ],
      "execution_count": 0,
      "outputs": []
    },
    {
      "metadata": {
        "id": "h7PsZc5NZnin",
        "colab_type": "text"
      },
      "cell_type": "markdown",
      "source": [
        "Plot toy data"
      ]
    },
    {
      "metadata": {
        "id": "YLwphH1wZnin",
        "colab_type": "code",
        "outputId": "2f80e0fa-94b2-444d-9067-0d60b16a73cb",
        "colab": {
          "base_uri": "https://localhost:8080/",
          "height": 269
        }
      },
      "cell_type": "code",
      "source": [
        "plt.plot(x_train, y_train, 'ro', label='Toy data')\n",
        "plt.show()"
      ],
      "execution_count": 0,
      "outputs": [
        {
          "output_type": "display_data",
          "data": {
            "image/png": "[encoded data removed]",
            "text/plain": [
              "<Figure size 432x288 with 1 Axes>"
            ]
          },
          "metadata": {
            "tags": []
          }
        }
      ]
    },
    {
      "metadata": {
        "id": "qR6K2LxYZnip",
        "colab_type": "text"
      },
      "cell_type": "markdown",
      "source": [
        "Define a linear model (y = x AT + b) for input/output"
      ]
    },
    {
      "metadata": {
        "id": "mCPmn9JYZniq",
        "colab_type": "code",
        "colab": {}
      },
      "cell_type": "code",
      "source": [
        "model = nn.Linear(x_train.shape[1], y_train.shape[1])"
      ],
      "execution_count": 0,
      "outputs": []
    },
    {
      "metadata": {
        "id": "CidHEDIzZnis",
        "colab_type": "text"
      },
      "cell_type": "markdown",
      "source": [
        "Define loss and optimizer"
      ]
    },
    {
      "metadata": {
        "id": "sBH1V0tFZnis",
        "colab_type": "code",
        "colab": {}
      },
      "cell_type": "code",
      "source": [
        "criterion = nn.MSELoss()\n",
        "optimizer = torch.optim.SGD(model.parameters(), lr=LEARNING_RATE)"
      ],
      "execution_count": 0,
      "outputs": []
    },
    {
      "metadata": {
        "id": "cLc3DZI6Zniu",
        "colab_type": "text"
      },
      "cell_type": "markdown",
      "source": [
        "Train the model"
      ]
    },
    {
      "metadata": {
        "id": "Fx3m9Pp_Zniw",
        "colab_type": "code",
        "outputId": "304b5d79-7eff-469a-b6e7-c26c0edebd63",
        "colab": {
          "base_uri": "https://localhost:8080/",
          "height": 153
        }
      },
      "cell_type": "code",
      "source": [
        "for epoch in range(NUM_EPOCHS):\n",
        "    \n",
        "    # Convert numpy arrays to torch tensors\n",
        "    inputs  = torch.from_numpy(x_train)\n",
        "    targets = torch.from_numpy(y_train)\n",
        "\n",
        "    # FORWARD PASS\n",
        "    outputs = model(inputs)\n",
        "    loss    = criterion(outputs, targets)\n",
        "    \n",
        "    # BACKWARD AND OPTIMIZE\n",
        "    # zero gradients (at the start of a minibatch)\n",
        "    optimizer.zero_grad()\n",
        "    # computes dloss/dx for every parameter x\n",
        "    loss.backward()\n",
        "    # optimizer.step performs a parameter update based on the current gradient \n",
        "    # (stored in .grad attribute of a parameter) \n",
        "    optimizer.step()\n",
        "    \n",
        "    if (epoch+1) % 10 == 0:\n",
        "        print ('Epoch [{}/{}], Loss: {:.4f}'.format(epoch+1, NUM_EPOCHS, loss.item()))"
      ],
      "execution_count": 0,
      "outputs": [
        {
          "output_type": "stream",
          "text": [
            "Epoch [10/80], Loss: 4.4823\n",
            "Epoch [20/80], Loss: 4.3214\n",
            "Epoch [30/80], Loss: 4.1684\n",
            "Epoch [40/80], Loss: 4.0230\n",
            "Epoch [50/80], Loss: 3.8848\n",
            "Epoch [60/80], Loss: 3.7534\n",
            "Epoch [70/80], Loss: 3.6285\n",
            "Epoch [80/80], Loss: 3.5097\n"
          ],
          "name": "stdout"
        }
      ]
    },
    {
      "metadata": {
        "id": "AN3OjrxqZniy",
        "colab_type": "text"
      },
      "cell_type": "markdown",
      "source": [
        "Plot the fitted line"
      ]
    },
    {
      "metadata": {
        "id": "-iYt9kefZniz",
        "colab_type": "code",
        "outputId": "d2809655-31e1-408a-f514-2a9c2efdae8c",
        "colab": {
          "base_uri": "https://localhost:8080/",
          "height": 269
        }
      },
      "cell_type": "code",
      "source": [
        "predicted = model(torch.from_numpy(x_train)).detach().numpy()\n",
        "plt.plot(x_train, y_train, 'ro', label='Original data')\n",
        "plt.plot(x_train, predicted, label='Fitted line')\n",
        "plt.legend()\n",
        "plt.show()"
      ],
      "execution_count": 0,
      "outputs": [
        {
          "output_type": "display_data",
          "data": {
            "image/png": "[encoded data removed]",
            "text/plain": [
              "<Figure size 432x288 with 1 Axes>"
            ]
          },
          "metadata": {
            "tags": []
          }
        }
      ]
    },
    {
      "metadata": {
        "id": "VWuP_H3iZni1",
        "colab_type": "text"
      },
      "cell_type": "markdown",
      "source": [
        "Check parameters"
      ]
    },
    {
      "metadata": {
        "id": "gLh7YdhtZni2",
        "colab_type": "code",
        "outputId": "c9b745c3-5a30-489f-bf07-76e4c4feddb7",
        "colab": {
          "base_uri": "https://localhost:8080/",
          "height": 85
        }
      },
      "cell_type": "code",
      "source": [
        "print('w:', model.weight) \n",
        "print('b:', model.bias)"
      ],
      "execution_count": 0,
      "outputs": [
        {
          "output_type": "stream",
          "text": [
            "w: Parameter containing:\n",
            "tensor([[0.5125]], requires_grad=True)\n",
            "b: Parameter containing:\n",
            "tensor([-0.0658], requires_grad=True)\n"
          ],
          "name": "stdout"
        }
      ]
    },
    {
      "metadata": {
        "id": "WgAOMehXZni4",
        "colab_type": "text"
      },
      "cell_type": "markdown",
      "source": [
        "And optionally save model checkpoint"
      ]
    },
    {
      "metadata": {
        "id": "GMqFZcB9Zni5",
        "colab_type": "code",
        "colab": {}
      },
      "cell_type": "code",
      "source": [
        "# torch.save(model.state_dict(), 'model.ckpt')"
      ],
      "execution_count": 0,
      "outputs": []
    }
  ]
}